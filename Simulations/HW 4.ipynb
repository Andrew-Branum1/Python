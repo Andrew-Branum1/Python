{
 "cells": [
  {
   "cell_type": "code",
   "execution_count": 1,
   "id": "5d7a3c39",
   "metadata": {},
   "outputs": [
    {
     "name": "stdout",
     "output_type": "stream",
     "text": [
      "Critical Path Frequencies:\n",
      "Path 5: 71.54% critical\n",
      "Path 3: 28.46% critical\n",
      "\n",
      "Average Duration per Path:\n",
      "Path 1: 20.49 units\n",
      "Path 2: 15.99 units\n",
      "Path 3: 23.50 units\n",
      "Path 4: 19.00 units\n",
      "Path 5: 24.50 units\n"
     ]
    }
   ],
   "source": [
    "import random\n",
    "from collections import defaultdict, Counter\n",
    "\n",
    "# Define the graph with time values\n",
    "edges = {\n",
    "    (1, 2): lambda: random.uniform(3, 5),\n",
    "    (1, 5): lambda: 6,\n",
    "    (2, 3): lambda: 6,\n",
    "    (2, 4): lambda: random.uniform(7, 9),\n",
    "    (3, 4): lambda: random.uniform(5, 8),\n",
    "    (4, 7): lambda: 4,\n",
    "    (5, 3): lambda: 7,\n",
    "    (5, 4): lambda: 9,\n",
    "    (5, 6): lambda: random.uniform(7, 10),\n",
    "    (6, 7): lambda: random.uniform(8, 12)\n",
    "}\n",
    "\n",
    "# Define all paths from node 1 to node 7\n",
    "paths = [\n",
    "    [(1, 2), (2, 3), (3, 4), (4, 7)],\n",
    "    [(1, 2), (2, 4), (4, 7)],\n",
    "    [(1, 5), (5, 3), (3, 4), (4, 7)],\n",
    "    [(1, 5), (5, 4), (4, 7)],\n",
    "    [(1, 5), (5, 6), (6, 7)]\n",
    "]\n",
    "\n",
    "# Simulation settings\n",
    "num_simulations = 10000\n",
    "path_times = defaultdict(list)\n",
    "critical_path_counter = Counter()\n",
    "\n",
    "for _ in range(num_simulations):\n",
    "    sample_times = {edge: time_fn() for edge, time_fn in edges.items()}\n",
    "    path_durations = {}\n",
    "    \n",
    "    for idx, path in enumerate(paths):\n",
    "        total_time = sum(sample_times[edge] for edge in path)\n",
    "        path_durations[idx] = total_time\n",
    "        path_times[idx].append(total_time)\n",
    "    \n",
    "    # Find critical path (longest path in this simulation)\n",
    "    critical_path = max(path_durations, key=path_durations.get)\n",
    "    critical_path_counter[critical_path] += 1\n",
    "\n",
    "# Output Results\n",
    "print(\"Critical Path Frequencies:\")\n",
    "for path_idx, count in critical_path_counter.items():\n",
    "    percentage = 100 * count / num_simulations\n",
    "    print(f\"Path {path_idx + 1}: {percentage:.2f}% critical\")\n",
    "\n",
    "print(\"\\nAverage Duration per Path:\")\n",
    "for path_idx, durations in path_times.items():\n",
    "    avg = sum(durations) / len(durations)\n",
    "    print(f\"Path {path_idx + 1}: {avg:.2f} units\")\n"
   ]
  },
  {
   "cell_type": "code",
   "execution_count": null,
   "id": "b3cbdc58",
   "metadata": {},
   "outputs": [],
   "source": []
  }
 ],
 "metadata": {
  "kernelspec": {
   "display_name": "Python 3 (ipykernel)",
   "language": "python",
   "name": "python3"
  },
  "language_info": {
   "codemirror_mode": {
    "name": "ipython",
    "version": 3
   },
   "file_extension": ".py",
   "mimetype": "text/x-python",
   "name": "python",
   "nbconvert_exporter": "python",
   "pygments_lexer": "ipython3",
   "version": "3.11.5"
  }
 },
 "nbformat": 4,
 "nbformat_minor": 5
}
